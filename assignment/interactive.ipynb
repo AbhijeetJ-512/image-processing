{
 "cells": [
  {
   "cell_type": "code",
   "execution_count": 2,
   "metadata": {},
   "outputs": [
    {
     "data": {
      "application/vnd.jupyter.widget-view+json": {
       "model_id": "888639d423a841f0a26db856529dfb57",
       "version_major": 2,
       "version_minor": 0
      },
      "text/plain": [
       "interactive(children=(FloatSlider(value=1.0, description='Sigma:', max=5.0, min=0.1), Output()), _dom_classes=…"
      ]
     },
     "metadata": {},
     "output_type": "display_data"
    }
   ],
   "source": [
    "import numpy as np\n",
    "import cv2\n",
    "import matplotlib.pyplot as plt\n",
    "from scipy import ndimage\n",
    "import ipywidgets as widgets\n",
    "from IPython.display import display\n",
    "from ipywidgets import interact, interactive, fixed, interact_manual\n",
    "\n",
    "\n",
    "# Function to generate Gaussian kernel\n",
    "def gaussian_kernel(sigma, size=5):\n",
    "    kernel = np.fromfunction(\n",
    "        lambda x, y: (1 / (2 * np.pi * sigma**2))\n",
    "        * np.exp(\n",
    "            -((x - (size - 1) / 2) ** 2 + (y - (size - 1) / 2) ** 2) / (2 * sigma**2)\n",
    "        ),\n",
    "        (size, size),\n",
    "    )\n",
    "    return kernel / np.sum(kernel)\n",
    "\n",
    "\n",
    "# Function to apply the Gaussian filter to an image\n",
    "def apply_gaussian_filter(input_image, sigma):\n",
    "    kernel = gaussian_kernel(sigma)\n",
    "    output_image = ndimage.convolve(input_image, kernel)\n",
    "    return output_image\n",
    "\n",
    "\n",
    "input_image = cv2.imread(\"images/modi.jpg\", 0)\n",
    "\n",
    "# Create a slider for sigma\n",
    "sigma_slider = widgets.FloatSlider(\n",
    "    value=1.0, min=0.1, max=5.0, step=0.1, description=\"Sigma:\"\n",
    ")\n",
    "\n",
    "\n",
    "# Define a function to update the plot\n",
    "def update_plot(sigma):\n",
    "    filtered_image = apply_gaussian_filter(input_image, sigma)\n",
    "\n",
    "    plt.figure(figsize=(12, 4))\n",
    "\n",
    "    plt.subplot(131)\n",
    "    plt.imshow(input_image, cmap=\"gray\")\n",
    "    plt.title(\"Input Image\")\n",
    "\n",
    "    plt.subplot(132)\n",
    "    plt.imshow(gaussian_kernel(sigma), cmap=\"viridis\")\n",
    "    plt.title(\"Gaussian Filter (Kernel)\")\n",
    "\n",
    "    plt.subplot(133)\n",
    "    plt.imshow(filtered_image, cmap=\"gray\")\n",
    "    plt.title(\"Filtered Image (Output)\")\n",
    "\n",
    "    plt.show()\n",
    "\n",
    "\n",
    "# Create an interactive widget\n",
    "interactive_plot = interactive(update_plot, sigma=sigma_slider)\n",
    "\n",
    "# Display the widget\n",
    "display(interactive_plot)"
   ]
  }
 ],
 "metadata": {
  "kernelspec": {
   "display_name": "cevi",
   "language": "python",
   "name": "python3"
  },
  "language_info": {
   "codemirror_mode": {
    "name": "ipython",
    "version": 3
   },
   "file_extension": ".py",
   "mimetype": "text/x-python",
   "name": "python",
   "nbconvert_exporter": "python",
   "pygments_lexer": "ipython3",
   "version": "3.11.4"
  },
  "orig_nbformat": 4
 },
 "nbformat": 4,
 "nbformat_minor": 2
}
