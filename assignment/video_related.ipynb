{
 "cells": [
  {
   "cell_type": "code",
   "execution_count": null,
   "metadata": {},
   "outputs": [],
   "source": [
    "import cv2\n",
    "import matplotlib.pyplot as plt\n",
    "import numpy as np"
   ]
  },
  {
   "cell_type": "code",
   "execution_count": null,
   "metadata": {},
   "outputs": [],
   "source": [
    "iphone = cv2.VideoCapture(\"videos/iphone15.mp4\")\n",
    "if iphone.isOpened() == False:\n",
    "    print(\"Error opening video file\")\n",
    "while iphone.isOpened():\n",
    "    ret, frame = iphone.read()\n",
    "    if ret == True:\n",
    "        cv2.imshow(\"video\", frame)\n",
    "        if cv2.waitKey(25) & 0xFF == ord(\"a\"):\n",
    "            break\n",
    "    else:\n",
    "        break\n",
    "iphone.release()\n",
    "cv2.destroyAllWindows()"
   ]
  },
  {
   "cell_type": "code",
   "execution_count": null,
   "metadata": {},
   "outputs": [],
   "source": [
    "iphone = cv2.VideoCapture(\"videos/iphone15.mp4\")\n",
    "if iphone.isOpened() == False:\n",
    "    print(\"Error opening video file\")\n",
    "while iphone.isOpened():\n",
    "    ret, frame = iphone.read()\n",
    "    if ret == True:\n",
    "        plt.imshow(frame)\n",
    "        plt.show()\n",
    "    else:\n",
    "        break"
   ]
  },
  {
   "cell_type": "code",
   "execution_count": null,
   "metadata": {},
   "outputs": [],
   "source": [
    "video1 = cv2.VideoCapture(\"videos/iphone15.mp4\")\n",
    "video2 = cv2.VideoCapture(\"videos/iphone15.mp4\")\n",
    "if video1.isOpened() or video2.isOpened():\n",
    "    print(\"File opeinig error\")\n",
    "while video1.isOpened() and video2.isOpened():\n",
    "    ret1, frame1 = video1.read()\n",
    "    ret2, frame2 = video1.read()\n",
    "    if ret1 and ret2:\n",
    "        plt.subplot(1, 2, 1)\n",
    "        plt.title(\"bar graph\")\n",
    "        plt.imshow(frame1)\n",
    "        plt.subplot(1, 2, 2)\n",
    "        plt.title(\"bar graph\")\n",
    "        plt.imshow(frame2)\n",
    "        plt.show()\n",
    "    else:\n",
    "        break"
   ]
  }
 ],
 "metadata": {
  "kernelspec": {
   "display_name": "cevi",
   "language": "python",
   "name": "python3"
  },
  "language_info": {
   "codemirror_mode": {
    "name": "ipython",
    "version": 3
   },
   "file_extension": ".py",
   "mimetype": "text/x-python",
   "name": "python",
   "nbconvert_exporter": "python",
   "pygments_lexer": "ipython3",
   "version": "3.11.4"
  },
  "orig_nbformat": 4
 },
 "nbformat": 4,
 "nbformat_minor": 2
}
