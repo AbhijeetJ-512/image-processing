{
 "cells": [
  {
   "cell_type": "code",
   "execution_count": 15,
   "metadata": {},
   "outputs": [],
   "source": [
    "import cv2\n",
    "import matplotlib.pyplot as plt\n",
    "import numpy as np"
   ]
  },
  {
   "cell_type": "code",
   "execution_count": null,
   "metadata": {},
   "outputs": [],
   "source": [
    "img = cv2.imread('images/tree.png')\n",
    "plt.imshow(img)"
   ]
  },
  {
   "cell_type": "code",
   "execution_count": null,
   "metadata": {},
   "outputs": [],
   "source": [
    "print(img.shape)\n",
    "# img = 255-img[:639,:960]\n",
    "img[639:,:960,[0,1]] = 0\n",
    "img[:639,:960,[1,2]] = 0\n",
    "img[639:,960:,[0,2]] = 0\n",
    "img[:639,960:]=255-img[:639,960:]\n",
    "plt.imshow(img)"
   ]
  },
  {
   "cell_type": "code",
   "execution_count": null,
   "metadata": {},
   "outputs": [],
   "source": [
    "n = int(input(\"enter resolution\"))\n",
    "img = np.full((n,n,3),255)\n",
    "div = n//8\n",
    "for i in range(0,n,2*div):\n",
    "    for j in range(0,n,2*div):\n",
    "        img[i:i+div,j:j+div]=0\n",
    "        img[i+div:i+div*2,j+div:j+div*2]=0\n",
    "plt.imshow(img)"
   ]
  }
 ],
 "metadata": {
  "kernelspec": {
   "display_name": "cevi",
   "language": "python",
   "name": "python3"
  },
  "language_info": {
   "codemirror_mode": {
    "name": "ipython",
    "version": 3
   },
   "file_extension": ".py",
   "mimetype": "text/x-python",
   "name": "python",
   "nbconvert_exporter": "python",
   "pygments_lexer": "ipython3",
   "version": "3.11.4"
  },
  "orig_nbformat": 4
 },
 "nbformat": 4,
 "nbformat_minor": 2
}
