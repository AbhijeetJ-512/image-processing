{
 "cells": [
  {
   "cell_type": "code",
   "execution_count": 1,
   "metadata": {},
   "outputs": [
    {
     "name": "stdout",
     "output_type": "stream",
     "text": [
      "Name is :abhijeet\n",
      "Age is :10\n",
      "balance is :10000\n"
     ]
    }
   ],
   "source": [
    "class BankAccount:\n",
    "    def  __init__(self,name,age,balance):\n",
    "        self.name=name\n",
    "        self.age=age\n",
    "        if balance>=2000:\n",
    "            self.balance=balance\n",
    "        else:\n",
    "            print(f\"Not valid for {self.name}\")\n",
    "    \n",
    "    def __str__(self):\n",
    "        return f\"{self.name} {self.age} {self.balance}\"\n",
    "\n",
    "    def details(self):\n",
    "        print(f\"Name is :{self.name}\\nAge is :{self.age}\\nbalance is :{self.balance}\")\n",
    "\n",
    "acc1 = BankAccount('abhijeet',10,10000)\n",
    "acc2 = BankAccount('Poonam',12,100000430)\n",
    "acc1.details()\n"
   ]
  },
  {
   "cell_type": "code",
   "execution_count": 33,
   "metadata": {},
   "outputs": [
    {
     "name": "stdout",
     "output_type": "stream",
     "text": [
      "4+7i\n",
      "-2-3i\n"
     ]
    }
   ],
   "source": [
    "class complex():\n",
    "    def __init__(self,real,imag):\n",
    "        self.real=real\n",
    "        self.imag=imag\n",
    "\n",
    "    def __add__(self,other):\n",
    "        sol_real = self.real+other.real\n",
    "        sol_imag = self.imag+other.imag\n",
    "        return complex(sol_real,sol_imag)\n",
    "\n",
    "    def __sub__(self,other):\n",
    "        sol_real = self.real-other.real\n",
    "        sol_imag = self.imag-other.imag\n",
    "        return complex(sol_real,sol_imag)\n",
    "\n",
    "    def __str__(self):\n",
    "        if self.imag>=0:\n",
    "            return f\"{self.real}+{self.imag}i\"\n",
    "        else:\n",
    "            return f\"{self.real}{self.imag}i\"\n",
    "        \n",
    "c1=complex(1,2)\n",
    "c2=complex(3,5)\n",
    "c3=c1+c2\n",
    "c4=c1-c2\n",
    "print(c3)\n",
    "print(c4)"
   ]
  },
  {
   "cell_type": "code",
   "execution_count": 34,
   "metadata": {},
   "outputs": [
    {
     "name": "stdout",
     "output_type": "stream",
     "text": [
      "Polynomial((2, 4, 10, 13))\n"
     ]
    }
   ],
   "source": [
    "class Polynomial():\n",
    "    def __init__(self,*coef):\n",
    "        self.coef=coef\n",
    "\n",
    "    def __repr__(self):\n",
    "        return \"Polynomial({!r})\".format(self.coef)\n",
    "    \n",
    "    def __add__(self,other):\n",
    "        return Polynomial(*[x+y for x,y in zip(self.coef,other.coef)])\n",
    "        \n",
    "p1 = Polynomial(1,2,4,5)\n",
    "p2 = Polynomial(1,2,6,8)\n",
    "p3 = p1+p2\n",
    "print(p3)"
   ]
  },
  {
   "cell_type": "code",
   "execution_count": 19,
   "metadata": {},
   "outputs": [
    {
     "ename": "IndexError",
     "evalue": "too many indices for array: array is 2-dimensional, but 3 were indexed",
     "output_type": "error",
     "traceback": [
      "\u001b[1;31m---------------------------------------------------------------------------\u001b[0m",
      "\u001b[1;31mIndexError\u001b[0m                                Traceback (most recent call last)",
      "\u001b[1;32mc:\\Users\\91901\\Desktop\\cevi\\class\\Classes_and_objects.ipynb Cell 4\u001b[0m line \u001b[0;36m3\n\u001b[0;32m      <a href='vscode-notebook-cell:/c%3A/Users/91901/Desktop/cevi/class/Classes_and_objects.ipynb#W3sZmlsZQ%3D%3D?line=0'>1</a>\u001b[0m \u001b[39mimport\u001b[39;00m \u001b[39mnumpy\u001b[39;00m \u001b[39mas\u001b[39;00m \u001b[39mnp\u001b[39;00m\n\u001b[0;32m      <a href='vscode-notebook-cell:/c%3A/Users/91901/Desktop/cevi/class/Classes_and_objects.ipynb#W3sZmlsZQ%3D%3D?line=1'>2</a>\u001b[0m array_2d \u001b[39m=\u001b[39m np\u001b[39m.\u001b[39marray([[\u001b[39m1\u001b[39m,\u001b[39m2\u001b[39m],[\u001b[39m3\u001b[39m,\u001b[39m4\u001b[39m]])\n\u001b[1;32m----> <a href='vscode-notebook-cell:/c%3A/Users/91901/Desktop/cevi/class/Classes_and_objects.ipynb#W3sZmlsZQ%3D%3D?line=2'>3</a>\u001b[0m array_2d[\u001b[39m1\u001b[39;49m:,:,\u001b[39m-\u001b[39;49m\u001b[39m1\u001b[39;49m][:,:]\n",
      "\u001b[1;31mIndexError\u001b[0m: too many indices for array: array is 2-dimensional, but 3 were indexed"
     ]
    }
   ],
   "source": [
    "import numpy as np\n",
    "array_2d = np.array([[1,2],[3,4]])"
   ]
  }
 ],
 "metadata": {
  "kernelspec": {
   "display_name": "cevi",
   "language": "python",
   "name": "python3"
  },
  "language_info": {
   "codemirror_mode": {
    "name": "ipython",
    "version": 3
   },
   "file_extension": ".py",
   "mimetype": "text/x-python",
   "name": "python",
   "nbconvert_exporter": "python",
   "pygments_lexer": "ipython3",
   "version": "3.11.4"
  },
  "orig_nbformat": 4
 },
 "nbformat": 4,
 "nbformat_minor": 2
}
