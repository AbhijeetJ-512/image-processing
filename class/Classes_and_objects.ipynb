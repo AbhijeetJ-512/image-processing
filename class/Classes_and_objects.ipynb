{
 "cells": [
  {
   "cell_type": "code",
   "execution_count": 1,
   "metadata": {},
   "outputs": [
    {
     "name": "stdout",
     "output_type": "stream",
     "text": [
      "Name is :abhijeet\n",
      "Age is :10\n",
      "balance is :10000\n"
     ]
    }
   ],
   "source": [
    "class BankAccount:\n",
    "    def  __init__(self,name,age,balance):\n",
    "        self.name=name\n",
    "        self.age=age\n",
    "        if balance>=2000:\n",
    "            self.balance=balance\n",
    "        else:\n",
    "            print(f\"Not valid for {self.name}\")\n",
    "    \n",
    "    def __str__(self):\n",
    "        return f\"{self.name} {self.age} {self.balance}\"\n",
    "\n",
    "    def details(self):\n",
    "        print(f\"Name is :{self.name}\\nAge is :{self.age}\\nbalance is :{self.balance}\")\n",
    "\n",
    "acc1 = BankAccount('abhijeet',10,10000)\n",
    "acc2 = BankAccount('Poonam',12,100000430)\n",
    "acc1.details()\n"
   ]
  },
  {
   "cell_type": "code",
   "execution_count": 33,
   "metadata": {},
   "outputs": [
    {
     "name": "stdout",
     "output_type": "stream",
     "text": [
      "4+7i\n",
      "-2-3i\n"
     ]
    }
   ],
   "source": [
    "class complex():\n",
    "    def __init__(self,real,imag):\n",
    "        self.real=real\n",
    "        self.imag=imag\n",
    "\n",
    "    def __add__(self,other):\n",
    "        sol_real = self.real+other.real\n",
    "        sol_imag = self.imag+other.imag\n",
    "        return complex(sol_real,sol_imag)\n",
    "\n",
    "    def __sub__(self,other):\n",
    "        sol_real = self.real-other.real\n",
    "        sol_imag = self.imag-other.imag\n",
    "        return complex(sol_real,sol_imag)\n",
    "\n",
    "    def __str__(self):\n",
    "        if self.imag>=0:\n",
    "            return f\"{self.real}+{self.imag}i\"\n",
    "        else:\n",
    "            return f\"{self.real}{self.imag}i\"\n",
    "        \n",
    "c1=complex(1,2)\n",
    "c2=complex(3,5)\n",
    "c3=c1+c2\n",
    "c4=c1-c2\n",
    "print(c3)\n",
    "print(c4)"
   ]
  },
  {
   "cell_type": "code",
   "execution_count": 34,
   "metadata": {},
   "outputs": [
    {
     "name": "stdout",
     "output_type": "stream",
     "text": [
      "Polynomial((2, 4, 10, 13))\n"
     ]
    }
   ],
   "source": [
    "class Polynomial():\n",
    "    def __init__(self,*coef):\n",
    "        self.coef=coef\n",
    "\n",
    "    def __repr__(self):\n",
    "        return \"Polynomial({!r})\".format(self.coef)\n",
    "    \n",
    "    def __add__(self,other):\n",
    "        return Polynomial(*[x+y for x,y in zip(self.coef,other.coef)])\n",
    "        \n",
    "p1 = Polynomial(1,2,4,5)\n",
    "p2 = Polynomial(1,2,6,8)\n",
    "p3 = p1+p2\n",
    "print(p3)"
   ]
  }
 ],
 "metadata": {
  "kernelspec": {
   "display_name": "cevi",
   "language": "python",
   "name": "python3"
  },
  "language_info": {
   "codemirror_mode": {
    "name": "ipython",
    "version": 3
   },
   "file_extension": ".py",
   "mimetype": "text/x-python",
   "name": "python",
   "nbconvert_exporter": "python",
   "pygments_lexer": "ipython3",
   "version": "3.11.4"
  },
  "orig_nbformat": 4
 },
 "nbformat": 4,
 "nbformat_minor": 2
}
