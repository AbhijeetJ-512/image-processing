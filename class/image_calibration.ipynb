{
 "cells": [
  {
   "cell_type": "code",
   "execution_count": 1,
   "metadata": {},
   "outputs": [],
   "source": [
    "import cv2\n",
    "import numpy as np\n",
    "import math"
   ]
  },
  {
   "cell_type": "code",
   "execution_count": 2,
   "metadata": {},
   "outputs": [
    {
     "name": "stdout",
     "output_type": "stream",
     "text": [
      "1431 1202\n"
     ]
    }
   ],
   "source": [
    "image = cv2.imread(\"images/modi.jpg\", 0)\n",
    "h, w = image.shape\n",
    "print(w, h)\n",
    "new_image = np.zeros((h, w), dtype=np.uint8)"
   ]
  },
  {
   "cell_type": "code",
   "execution_count": null,
   "metadata": {},
   "outputs": [],
   "source": [
    "trasnsalation_matrix1 = np.array([[1, 0, 10], [0, 1, 0], [0, 0, 1]])  # shift down\n",
    "trasnsalation_matrix2 = np.array([[1, 0, 0], [0, 1, 10], [0, 0, 1]])  # shift right\n",
    "trasnsalation_matrix3 = np.array(\n",
    "    [[1, 0, 10], [0, 1, 10], [0, 0, 1]]\n",
    ")  # shift right and down"
   ]
  },
  {
   "cell_type": "code",
   "execution_count": 6,
   "metadata": {},
   "outputs": [],
   "source": [
    "def transaltion(matrix):\n",
    "    for i in range(h):\n",
    "        for j in range(w):\n",
    "            co = np.array([[i], [j], [1]])\n",
    "            new_co = np.dot(matrix, co)\n",
    "            if new_co[0] > h - 1 or new_co[1] > w - 1:\n",
    "                continue\n",
    "            new_image[int(new_co[0]), int(new_co[1])] = image[i][j]"
   ]
  },
  {
   "cell_type": "code",
   "execution_count": null,
   "metadata": {},
   "outputs": [],
   "source": [
    "transaltion(trasnsalation_matrix3)"
   ]
  },
  {
   "cell_type": "code",
   "execution_count": 154,
   "metadata": {},
   "outputs": [],
   "source": [
    "cv2.imshow(\"real\", image)\n",
    "cv2.imshow(\"trasnlated\", new_image)\n",
    "cv2.waitKey(0)\n",
    "cv2.destroyAllWindows()"
   ]
  },
  {
   "cell_type": "code",
   "execution_count": 3,
   "metadata": {},
   "outputs": [
    {
     "name": "stdout",
     "output_type": "stream",
     "text": [
      "612 493\n"
     ]
    }
   ],
   "source": [
    "image = cv2.imread(\"images/enistein.png\", 0)\n",
    "h, w = image.shape\n",
    "print(h, w)\n",
    "new_image = np.zeros((h, w), dtype=np.uint8)"
   ]
  },
  {
   "cell_type": "code",
   "execution_count": 7,
   "metadata": {},
   "outputs": [
    {
     "name": "stderr",
     "output_type": "stream",
     "text": [
      "C:\\Users\\91901\\AppData\\Local\\Temp\\ipykernel_19064\\1715748163.py:8: DeprecationWarning: Conversion of an array with ndim > 0 to a scalar is deprecated, and will error in future. Ensure you extract a single element from your array before performing this operation. (Deprecated NumPy 1.25.)\n",
      "  new_image[int(new_co[0]), int(new_co[1])] = image[i][j]\n"
     ]
    }
   ],
   "source": [
    "angle = math.radians(45)\n",
    "rotation_matrix = np.array(\n",
    "    [\n",
    "        [math.sin(angle), -1 * math.sin(angle), 250],\n",
    "        [math.sin(angle), math.cos(angle), -250],\n",
    "        [0, 0, 1],\n",
    "    ]\n",
    ")\n",
    "rotat_matrix = np.array(\n",
    "    [\n",
    "        [\n",
    "            math.cos(angle),\n",
    "            -math.sin(angle),\n",
    "            (h // 2 - h // 2 * math.cos(angle) + w // 2 * math.sin(angle)),\n",
    "        ],\n",
    "        [\n",
    "            math.sin(angle),\n",
    "            math.cos(angle),\n",
    "            (w // 2 - h // 2 * math.sin(angle) - w // 2 * math.cos(angle)),\n",
    "        ],\n",
    "        [0, 0, 1],\n",
    "    ]\n",
    ")\n",
    "transaltion(rotation_matrix)\n",
    "transaltion(rotat_matrix)"
   ]
  }
 ],
 "metadata": {
  "kernelspec": {
   "display_name": "cevi",
   "language": "python",
   "name": "python3"
  },
  "language_info": {
   "codemirror_mode": {
    "name": "ipython",
    "version": 3
   },
   "file_extension": ".py",
   "mimetype": "text/x-python",
   "name": "python",
   "nbconvert_exporter": "python",
   "pygments_lexer": "ipython3",
   "version": "3.11.4"
  },
  "orig_nbformat": 4
 },
 "nbformat": 4,
 "nbformat_minor": 2
}
