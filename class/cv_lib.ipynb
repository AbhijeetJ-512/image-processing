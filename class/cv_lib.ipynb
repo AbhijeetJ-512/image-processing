{
 "cells": [
  {
   "cell_type": "code",
   "execution_count": 13,
   "metadata": {},
   "outputs": [],
   "source": [
    "import cv2\n",
    "import matplotlib.pyplot as plt\n",
    "import numpy as np"
   ]
  },
  {
   "cell_type": "code",
   "execution_count": null,
   "metadata": {},
   "outputs": [],
   "source": [
    "img = cv2.imread(\"images/enistein.png\")\n",
    "cv2.imshow(\"enistien\", img)\n",
    "cv2.waitKey(0)\n",
    "cv2.destroyAllWindows()\n",
    "print(img.shape)"
   ]
  },
  {
   "cell_type": "code",
   "execution_count": null,
   "metadata": {},
   "outputs": [],
   "source": [
    "imag = np.full((1000, 1000, 3), 100)\n",
    "plt.imshow(imag)"
   ]
  },
  {
   "cell_type": "code",
   "execution_count": null,
   "metadata": {},
   "outputs": [],
   "source": [
    "imag[:500, :500] = 0\n",
    "imag[500:, 500:] = 0\n",
    "plt.imshow(imag)"
   ]
  },
  {
   "cell_type": "code",
   "execution_count": null,
   "metadata": {},
   "outputs": [],
   "source": [
    "imag = np.full((1000, 1000, 3), 100)\n",
    "plt.imshow(imag)"
   ]
  },
  {
   "cell_type": "code",
   "execution_count": null,
   "metadata": {},
   "outputs": [],
   "source": [
    "for x in range(1000):\n",
    "    for y in range(1000):\n",
    "        if x < 500 and y < 500:\n",
    "            imag[x, y] = 0\n",
    "        elif x > 500 and y < 500:\n",
    "            imag[x, y] = 50\n",
    "        elif x < 500 and y > 500:\n",
    "            imag[x, y] = 100\n",
    "        else:\n",
    "            imag[x, y] = 200\n",
    "plt.imshow(imag)"
   ]
  },
  {
   "cell_type": "code",
   "execution_count": null,
   "metadata": {},
   "outputs": [],
   "source": [
    "img = np.array([[255 if x < y else 0 for y in range(500)] for x in range(500)])\n",
    "plt.imshow(img)"
   ]
  },
  {
   "cell_type": "code",
   "execution_count": null,
   "metadata": {},
   "outputs": [],
   "source": [
    "img = np.array([[255 if x < y else 0 for y in range(500)] for x in range(500)])"
   ]
  },
  {
   "cell_type": "code",
   "execution_count": 2,
   "metadata": {},
   "outputs": [
    {
     "data": {
      "text/plain": [
       "<matplotlib.image.AxesImage at 0x1df1d33d810>"
      ]
     },
     "execution_count": 2,
     "metadata": {},
     "output_type": "execute_result"
    },
    {
     "data": {
      "image/png": "[encoded data removed]",
      "text/plain": [
       "<Figure size 640x480 with 1 Axes>"
      ]
     },
     "metadata": {},
     "output_type": "display_data"
    }
   ],
   "source": [
    "x = int(input(\"enter resultion\"))\n",
    "board = np.full((x,x,3),255)\n",
    "split=x//8\n",
    "plt.imshow(board)\n",
    "for i in range(x):\n",
    "    for j in range(x):\n",
    "        "
   ]
  },
  {
   "cell_type": "code",
   "execution_count": 2,
   "metadata": {},
   "outputs": [
    {
     "data": {
      "text/plain": [
       "13"
      ]
     },
     "execution_count": 2,
     "metadata": {},
     "output_type": "execute_result"
    },
    {
     "ename": "",
     "evalue": "",
     "output_type": "error",
     "traceback": [
      "\u001b[1;31mThe Kernel crashed while executing code in the the current cell or a previous cell. Please review the code in the cell(s) to identify a possible cause of the failure. Click <a href='https://aka.ms/vscodeJupyterKernelCrash'>here</a> for more info. View Jupyter <a href='command:jupyter.viewOutput'>log</a> for further details."
     ]
    }
   ],
   "source": [
    "img1 = np.zeros((300, 300), np.uint8)\n",
    "img = img1\n",
    "img[:, :150] = 255\n",
    "\n",
    "cv2.imshow(\"h\", img)\n",
    "cv2.waitKey(0)\n",
    "cv2.imshow(\"b\", img.transpose())\n",
    "cv2.waitKey(0)\n",
    "\n",
    "for i in range(300):\n",
    "    for j in range(300):\n",
    "        if i + j < 300 and i < j:\n",
    "            img[i, j] = 255\n",
    "        elif i + j > 300 and i > j:\n",
    "            img[i, j] = 255\n",
    "        else:\n",
    "            img[i, j] = 0\n",
    "cv2.imshow(\"h\", img1)\n",
    "cv2.waitKey(0)\n",
    "cv2.imshow(\"h\", img1.transpose())\n",
    "cv2.waitKey(0)"
   ]
  },
  {
   "cell_type": "code",
   "execution_count": 11,
   "metadata": {},
   "outputs": [
    {
     "data": {
      "text/plain": [
       "<matplotlib.image.AxesImage at 0x1df1ddd7b90>"
      ]
     },
     "execution_count": 11,
     "metadata": {},
     "output_type": "execute_result"
    },
    {
     "data": {
      "image/png": "[encoded data removed]",
      "text/plain": [
       "<Figure size 640x480 with 1 Axes>"
      ]
     },
     "metadata": {},
     "output_type": "display_data"
    }
   ],
   "source": [
    "img = np.full((1000, 1000, 3), 255)\n",
    "for i in range(1000):\n",
    "    for j in range(1000):\n",
    "        if i + j < 1000 and i < j:\n",
    "            img[i, j] = [0, 0, 255]\n",
    "        elif i + j > 1000 and i > j:\n",
    "            img[i, j] = [0, 255, 0]\n",
    "        elif j > 500:\n",
    "            img[i, j] = [255, 0, 0]\n",
    "        else:\n",
    "            img[i, j] = [100, 50, 0]\n",
    "plt.imshow(img)"
   ]
  },
  {
   "cell_type": "code",
   "execution_count": 28,
   "metadata": {},
   "outputs": [],
   "source": [
    "image = cv2.imread(\"images/tree.png\")\n",
    "cv2.imshow(\"gray image\", image)\n",
    "cv2.waitKey(0)\n",
    "cv2.destroyAllWindows()\n",
    "gray_image = np.uint8(\n",
    "    0.11 * image[:, :, 0] + 0.62 * image[:, :, 1] + 0.27 * image[:, :, 2]\n",
    ")\n",
    "cv2.imshow(\"gray image\", gray_image)\n",
    "cv2.waitKey(0)\n",
    "cv2.destroyAllWindows()"
   ]
  }
 ],
 "metadata": {
  "kernelspec": {
   "display_name": "cevi",
   "language": "python",
   "name": "python3"
  },
  "language_info": {
   "codemirror_mode": {
    "name": "ipython",
    "version": 3
   },
   "file_extension": ".py",
   "mimetype": "text/x-python",
   "name": "python",
   "nbconvert_exporter": "python",
   "pygments_lexer": "ipython3",
   "version": "3.11.4"
  },
  "orig_nbformat": 4
 },
 "nbformat": 4,
 "nbformat_minor": 2
}
