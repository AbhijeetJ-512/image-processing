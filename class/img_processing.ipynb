{
 "cells": [
  {
   "cell_type": "code",
   "execution_count": 1,
   "metadata": {},
   "outputs": [],
   "source": [
    "import numpy as np\n",
    "import cv2\n",
    "import matplotlib.pyplot as plt"
   ]
  },
  {
   "cell_type": "code",
   "execution_count": 59,
   "metadata": {},
   "outputs": [],
   "source": [
    "def convtiounal(image, kernal):\n",
    "    output = np.zeros(np.array(image.shape) - 2)\n",
    "    for x in range(1, image.shape[0] - 1):\n",
    "        for y in range(1, image.shape[1] - 1):\n",
    "            part_image = image[x - 1 : x + 2, y - 1 : y + 2] * kernal\n",
    "            sum = np.sum(part_image)\n",
    "            output[x - 1, y - 1] = sum\n",
    "    return output // 9"
   ]
  },
  {
   "cell_type": "code",
   "execution_count": 60,
   "metadata": {},
   "outputs": [
    {
     "name": "stdout",
     "output_type": "stream",
     "text": [
      "[[165 165 165 ... 148 156 151]\n",
      " [165 165 165 ... 162 153 138]\n",
      " [165 165 165 ... 128 141 159]\n",
      " ...\n",
      " [ 27  30  31 ...  33  33  33]\n",
      " [ 28  33  33 ...  32  32  32]\n",
      " [ 27  33  33 ...  31  30  30]]\n",
      "[[1. 1. 1.]\n",
      " [1. 1. 1.]\n",
      " [1. 1. 1.]]\n",
      "[[165. 165. 165. ... 144. 146. 148.]\n",
      " [165. 165. 165. ... 145. 145. 145.]\n",
      " [165. 165. 165. ... 144. 143. 143.]\n",
      " ...\n",
      " [ 28.  29.  29. ...  32.  32.  32.]\n",
      " [ 29.  29.  29. ...  33.  32.  32.]\n",
      " [ 30.  31.  30. ...  32.  32.  31.]]\n"
     ]
    }
   ],
   "source": [
    "class_image = cv2.imread(\"images/class_photo.jpg\", 0)\n",
    "print(class_image)\n",
    "cv2.imshow(\"class photo\", class_image)\n",
    "cv2.waitKey(0)\n",
    "cv2.destroyAllWindows()\n",
    "kernal = np.ones((3, 3))\n",
    "print(kernal)\n",
    "output = convtiounal(class_image, kernal)\n",
    "print(output)\n",
    "cv2.imshow(\"class photo\", output)\n",
    "cv2.waitKey(0)\n",
    "cv2.destroyAllWindows()"
   ]
  }
 ],
 "metadata": {
  "kernelspec": {
   "display_name": "cevi",
   "language": "python",
   "name": "python3"
  },
  "language_info": {
   "codemirror_mode": {
    "name": "ipython",
    "version": 3
   },
   "file_extension": ".py",
   "mimetype": "text/x-python",
   "name": "python",
   "nbconvert_exporter": "python",
   "pygments_lexer": "ipython3",
   "version": "3.11.4"
  },
  "orig_nbformat": 4
 },
 "nbformat": 4,
 "nbformat_minor": 2
}
