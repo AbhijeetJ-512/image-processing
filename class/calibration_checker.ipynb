{
 "cells": [
  {
   "cell_type": "code",
   "execution_count": 1,
   "metadata": {},
   "outputs": [],
   "source": [
    "import cv2\n",
    "import numpy as np\n",
    "import os\n",
    "import glob\n",
    "from tqdm import tqdm"
   ]
  },
  {
   "cell_type": "code",
   "execution_count": 2,
   "metadata": {},
   "outputs": [
    {
     "name": "stdout",
     "output_type": "stream",
     "text": [
      "2 1\n"
     ]
    }
   ],
   "source": [
    "CHECKERBOARD = (7, 7)\n",
    "\n",
    "criteria = (cv2.TERM_CRITERIA_EPS + cv2.TERM_CRITERIA_MAX_ITER, 30, 0.001)\n",
    "\n",
    "print(cv2.TERM_CRITERIA_EPS, cv2.TERM_CRITERIA_MAX_ITER)\n",
    "\n",
    "# Vector for 3D points\n",
    "threedpoints = []\n",
    "\n",
    "# Vector for 2D points\n",
    "twodpoints = []\n",
    "\n",
    "\n",
    "#  3D points real world coordinates\n",
    "objectp3d = np.zeros((1, CHECKERBOARD[0] * CHECKERBOARD[1], 3), np.float32)\n",
    "objectp3d[0, :, :2] = np.mgrid[0 : CHECKERBOARD[0], 0 : CHECKERBOARD[1]].T.reshape(\n",
    "    -1, 2\n",
    ")\n",
    "prev_img_shape = None\n",
    "\n",
    "images = glob.glob(\"class/calibration_images/*.JPG\")"
   ]
  },
  {
   "cell_type": "code",
   "execution_count": 12,
   "metadata": {},
   "outputs": [
    {
     "name": "stderr",
     "output_type": "stream",
     "text": [
      "0it [00:00, ?it/s]\n"
     ]
    },
    {
     "ename": "NameError",
     "evalue": "name 'image' is not defined",
     "output_type": "error",
     "traceback": [
      "\u001b[1;31m---------------------------------------------------------------------------\u001b[0m",
      "\u001b[1;31mNameError\u001b[0m                                 Traceback (most recent call last)",
      "\u001b[1;32mc:\\Users\\91901\\Desktop\\cevi\\class\\calibration_checker.ipynb Cell 3\u001b[0m line \u001b[0;36m2\n\u001b[0;32m     <a href='vscode-notebook-cell:/c%3A/Users/91901/Desktop/cevi/class/calibration_checker.ipynb#W2sZmlsZQ%3D%3D?line=23'>24</a>\u001b[0m         image \u001b[39m=\u001b[39m cv2\u001b[39m.\u001b[39mdrawChessboardCorners(image, CHECKERBOARD, corners2, ret)\n\u001b[0;32m     <a href='vscode-notebook-cell:/c%3A/Users/91901/Desktop/cevi/class/calibration_checker.ipynb#W2sZmlsZQ%3D%3D?line=24'>25</a>\u001b[0m         cv2\u001b[39m.\u001b[39mimshow(\u001b[39m\"\u001b[39m\u001b[39mCorners\u001b[39m\u001b[39m\"\u001b[39m, image)\n\u001b[1;32m---> <a href='vscode-notebook-cell:/c%3A/Users/91901/Desktop/cevi/class/calibration_checker.ipynb#W2sZmlsZQ%3D%3D?line=27'>28</a>\u001b[0m h, w \u001b[39m=\u001b[39m image\u001b[39m.\u001b[39mshape[:\u001b[39m2\u001b[39m]\n\u001b[0;32m     <a href='vscode-notebook-cell:/c%3A/Users/91901/Desktop/cevi/class/calibration_checker.ipynb#W2sZmlsZQ%3D%3D?line=29'>30</a>\u001b[0m ret, matrix, distortion, r_vecs, t_vecs \u001b[39m=\u001b[39m cv2\u001b[39m.\u001b[39mcalibrateCamera(\n\u001b[0;32m     <a href='vscode-notebook-cell:/c%3A/Users/91901/Desktop/cevi/class/calibration_checker.ipynb#W2sZmlsZQ%3D%3D?line=30'>31</a>\u001b[0m     threedpoints, twodpoints, grayColor\u001b[39m.\u001b[39mshape[::\u001b[39m-\u001b[39m\u001b[39m1\u001b[39m], \u001b[39mNone\u001b[39;00m, \u001b[39mNone\u001b[39;00m\n\u001b[0;32m     <a href='vscode-notebook-cell:/c%3A/Users/91901/Desktop/cevi/class/calibration_checker.ipynb#W2sZmlsZQ%3D%3D?line=31'>32</a>\u001b[0m )\n\u001b[0;32m     <a href='vscode-notebook-cell:/c%3A/Users/91901/Desktop/cevi/class/calibration_checker.ipynb#W2sZmlsZQ%3D%3D?line=33'>34</a>\u001b[0m \u001b[39m# Displaying required output\u001b[39;00m\n",
      "\u001b[1;31mNameError\u001b[0m: name 'image' is not defined"
     ]
    }
   ],
   "source": [
    "for filename in tqdm(images):\n",
    "    # print(filename)\n",
    "    image = cv2.imread(filename)\n",
    "    grayColor = cv2.cvtColor(image, cv2.COLOR_BGR2GRAY)\n",
    "\n",
    "    # Find the chess board corners\n",
    "    # If desired number of corners are\n",
    "    # found in the image then ret = true\n",
    "    ret, corners = cv2.findChessboardCorners(grayColor, CHECKERBOARD, None)\n",
    "\n",
    "    # If desired number of corners can be detected then,\n",
    "    # refine the pixel coordinates and display\n",
    "    # them on the images of checker board\n",
    "    if ret == True:\n",
    "        threedpoints.append(objectp3d)\n",
    "\n",
    "        # Refining pixel coordinates\n",
    "        # for given 2d points.\n",
    "        corners2 = cv2.cornerSubPix(grayColor, corners, (11, 11), (-1, -1), criteria)\n",
    "\n",
    "        twodpoints.append(corners2)\n",
    "\n",
    "        # Draw and display the corners\n",
    "        image = cv2.drawChessboardCorners(image, CHECKERBOARD, corners2, ret)\n",
    "        cv2.imshow(\"Corners\", image)\n",
    "\n",
    "\n",
    "h, w = image.shape[:2]\n",
    "\n",
    "ret, matrix, distortion, r_vecs, t_vecs = cv2.calibrateCamera(\n",
    "    threedpoints, twodpoints, grayColor.shape[::-1], None, None\n",
    ")\n",
    "\n",
    "# Displaying required output\n",
    "print(\" Camera matrix:\")\n",
    "print(matrix)\n",
    "\n",
    "print(\"\\n Distortion coefficient:\")\n",
    "print(distortion)\n",
    "\n",
    "print(\"\\n Rotation Vectors:\")\n",
    "print(r_vecs)\n",
    "\n",
    "print(\"\\n Translation Vectors:\")\n",
    "print(t_vecs)"
   ]
  },
  {
   "cell_type": "code",
   "execution_count": null,
   "metadata": {},
   "outputs": [],
   "source": [
    "def draw(img, corners, imgpts):\n",
    "    imgpts = np.int32(imgpts).reshape(-1, 2)\n",
    "\n",
    "    # draw ground floor in green\n",
    "    img = cv2.drawContours(img, [imgpts[:4]], -1, (0, 255, 0), -3)\n",
    "\n",
    "    # draw pillars in blue color\n",
    "    for i, j in zip(range(4), range(4, 8)):\n",
    "        img = cv2.line(img, tuple(imgpts[i]), tuple(imgpts[j]), (255), 3)\n",
    "\n",
    "    # draw top layer in red color\n",
    "    img = cv2.drawContours(img, [imgpts[4:]], -1, (0, 0, 255), 3)"
   ]
  },
  {
   "cell_type": "code",
   "execution_count": null,
   "metadata": {},
   "outputs": [],
   "source": [
    "axis = np.float32(\n",
    "    [\n",
    "        [0, 0, 0],\n",
    "        [0, 3, 0],\n",
    "        [3, 3, 0],\n",
    "        [3, 0, 0],\n",
    "        [0, 0, -3],\n",
    "        [0, 3, -3],\n",
    "        [3, 3, -3],\n",
    "        [3, 0, -3],\n",
    "    ]\n",
    ")\n",
    "\n",
    "cam = cv2.VideoCapture(0)\n",
    "ret1 = True\n",
    "while ret1:\n",
    "    ret1, img = cam.read()\n",
    "    # print(ret1)\n",
    "    gray = cv2.cvtColor(img, cv2.COLOR_BGR2GRAY)\n",
    "    ret, corners = cv2.findChessboardCorners(gray, (7, 6), None)\n",
    "    if ret == True:\n",
    "        corners2 = cv2.cornerSubPix(gray, corners, (11, 11), (-1, -1), criteria)\n",
    "\n",
    "        # Find the rotation and translation vectors.\n",
    "        rvecs, tvecs, inliers = cv2.solvePnPRansac(\n",
    "            objectp3d, corners2, matrix, distortion\n",
    "        )\n",
    "\n",
    "        # project 3D points to image plane\n",
    "        imgpts, jac = cv2.projectPoints(axis, rvecs, tvecs, matrix, distortion)\n",
    "        img = draw(img, corners2, imgpts)\n",
    "        cv2.imshow(\"img\", img)\n",
    "        k = cv2.waitKey(1)\n",
    "        if k == 27:\n",
    "            cv2.destroyAllWindows()\n",
    "            exit()"
   ]
  }
 ],
 "metadata": {
  "kernelspec": {
   "display_name": "cevi",
   "language": "python",
   "name": "python3"
  },
  "language_info": {
   "codemirror_mode": {
    "name": "ipython",
    "version": 3
   },
   "file_extension": ".py",
   "mimetype": "text/x-python",
   "name": "python",
   "nbconvert_exporter": "python",
   "pygments_lexer": "ipython3",
   "version": "3.11.4"
  },
  "orig_nbformat": 4
 },
 "nbformat": 4,
 "nbformat_minor": 2
}
