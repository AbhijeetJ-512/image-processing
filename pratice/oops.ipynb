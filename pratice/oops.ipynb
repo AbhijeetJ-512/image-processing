{
 "cells": [
  {
   "cell_type": "code",
   "execution_count": 14,
   "metadata": {},
   "outputs": [],
   "source": [
    "class Item:\n",
    "    tax_rate = 0.25\n",
    "    discount = 0.3\n",
    "    all = []\n",
    "\n",
    "    def __init__(self, name: str, price: float, quantity: int):\n",
    "        # asserting the price\n",
    "        assert price >= 0, f\"price less then zero which is not possible\"\n",
    "\n",
    "        # assign self to objects\n",
    "        self.name = name\n",
    "        self.price = price\n",
    "        self.quantity = quantity\n",
    "\n",
    "        Item.all.append(self)\n",
    "\n",
    "    def __repr__(self):\n",
    "        return f\"({self.name} {self.price} {self.quantity})\\t\"\n",
    "\n",
    "    def calculate_price(self):\n",
    "        return self.price * self.quantity * (1 + self.tax_rate)\n",
    "\n",
    "    def discounted_price(self):\n",
    "        return self.calculate_price() * (1 - self.discount)"
   ]
  },
  {
   "cell_type": "code",
   "execution_count": 15,
   "metadata": {},
   "outputs": [],
   "source": [
    "item1 = Item(\"phone\", 100, 6)\n",
    "item2 = Item(\"Laptop\", 1000, 3)\n",
    "item3 = Item(\"Cable\", 10, 5)\n",
    "item4 = Item(\"Mouse\", 50, 5)\n",
    "item5 = Item(\"Keyboard\", 75, 5)"
   ]
  },
  {
   "cell_type": "code",
   "execution_count": 16,
   "metadata": {},
   "outputs": [
    {
     "name": "stdout",
     "output_type": "stream",
     "text": [
      "phone\n",
      "100\n",
      "6\n",
      "0.25\n",
      "<class '__main__.Item'>\n",
      "{'name': 'phone', 'price': 100, 'quantity': 6}\n",
      "750.0\n",
      "525.0\n"
     ]
    }
   ],
   "source": [
    "print(item1.name)\n",
    "print(item1.price)\n",
    "print(item1.quantity)\n",
    "print(item1.tax_rate)\n",
    "print(type(item1))\n",
    "# print(Item.__dict__)\n",
    "print(item1.__dict__)  # gives all attributes\n",
    "print(item1.calculate_price())\n",
    "print(item1.discounted_price())"
   ]
  },
  {
   "cell_type": "code",
   "execution_count": 17,
   "metadata": {},
   "outputs": [
    {
     "name": "stdout",
     "output_type": "stream",
     "text": [
      "[(phone 100 6)\t, (Laptop 1000 3)\t, (Cable 10 5)\t, (Mouse 50 5)\t, (Keyboard 75 5)\t]\n"
     ]
    }
   ],
   "source": [
    "print(Item.all)"
   ]
  },
  {
   "cell_type": "code",
   "execution_count": 18,
   "metadata": {},
   "outputs": [
    {
     "name": "stdout",
     "output_type": "stream",
     "text": [
      "phone\n",
      "Laptop\n",
      "Cable\n",
      "Mouse\n",
      "Keyboard\n"
     ]
    }
   ],
   "source": [
    "for instance in Item.all:\n",
    "    print(instance.name)"
   ]
  },
  {
   "cell_type": "code",
   "execution_count": 20,
   "metadata": {},
   "outputs": [
    {
     "name": "stdout",
     "output_type": "stream",
     "text": [
      "abhijeet\n"
     ]
    }
   ],
   "source": [
    "class Student:\n",
    "    def __init__(self, name: str, usn: str, mail: str, roll_no: int):\n",
    "        self.name = name\n",
    "        self.email = mail\n",
    "        self.usn = usn\n",
    "        self.roll_no = roll_no\n",
    "\n",
    "\n",
    "def fill_details():\n",
    "    name = input(\"Name: \")\n",
    "    mail = input(\"Mail: \")\n",
    "    usn = input(\"USN: \")\n",
    "    roll_no = int(input(\"Roll no: \"))\n",
    "    student = Student(name, usn, mail, roll_no)\n",
    "    return student\n",
    "\n",
    "\n",
    "student_details = []\n",
    "student_details.append(fill_details())\n",
    "print(student_details[0].name)"
   ]
  }
 ],
 "metadata": {
  "kernelspec": {
   "display_name": "cevi",
   "language": "python",
   "name": "python3"
  },
  "language_info": {
   "codemirror_mode": {
    "name": "ipython",
    "version": 3
   },
   "file_extension": ".py",
   "mimetype": "text/x-python",
   "name": "python",
   "nbconvert_exporter": "python",
   "pygments_lexer": "ipython3",
   "version": "3.11.4"
  },
  "orig_nbformat": 4
 },
 "nbformat": 4,
 "nbformat_minor": 2
}
