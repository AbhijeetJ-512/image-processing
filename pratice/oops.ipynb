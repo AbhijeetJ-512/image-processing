{
 "cells": [
  {
   "cell_type": "code",
   "execution_count": 6,
   "metadata": {},
   "outputs": [],
   "source": [
    "class Item:\n",
    "    tax_rate = 0.25\n",
    "    discount = 0.3\n",
    "    all = []\n",
    "\n",
    "    def __init__(self, name: str, price: float, quantity: int):\n",
    "        # asserting the price\n",
    "        assert price >= 0, f\"price less then zero which is not possible\"\n",
    "\n",
    "        # assign self to objects\n",
    "        self.name = name\n",
    "        self.price = price\n",
    "        self.quantity = quantity\n",
    "\n",
    "        Item.all.append(self)\n",
    "\n",
    "    def __repr__(self):\n",
    "        return f\"({self.name} {self.price} {self.quantity})\\t\"\n",
    "\n",
    "    def calculate_price(self):\n",
    "        return self.price * self.quantity * (1 + self.tax_rate)\n",
    "\n",
    "    def discounted_price(self):\n",
    "        return self.calculate_price() * (1 - self.discount)"
   ]
  },
  {
   "cell_type": "code",
   "execution_count": 7,
   "metadata": {},
   "outputs": [],
   "source": [
    "item1 = Item(\"phone\", 100, 6)\n",
    "item2 = Item(\"Laptop\", 1000, 3)\n",
    "item3 = Item(\"Cable\", 10, 5)\n",
    "item4 = Item(\"Mouse\", 50, 5)\n",
    "item5 = Item(\"Keyboara\", 75, 5)"
   ]
  },
  {
   "cell_type": "code",
   "execution_count": 8,
   "metadata": {},
   "outputs": [
    {
     "name": "stdout",
     "output_type": "stream",
     "text": [
      "phone\n",
      "100\n",
      "6\n",
      "0.25\n",
      "<class '__main__.Item'>\n",
      "{'__module__': '__main__', 'tax_rate': 0.25, 'discount': 0.3, 'all': [(phone 100 6)\t, (Laptop 1000 3)\t, (Cable 10 5)\t, (Mouse 50 5)\t, (Keyboara 75 5)\t], '__init__': <function Item.__init__ at 0x0000015D4A1BF740>, '__repr__': <function Item.__repr__ at 0x0000015D4A1BF880>, 'calculate_price': <function Item.calculate_price at 0x0000015D4A1BF2E0>, 'discounted_price': <function Item.discounted_price at 0x0000015D4A1BF920>, '__dict__': <attribute '__dict__' of 'Item' objects>, '__weakref__': <attribute '__weakref__' of 'Item' objects>, '__doc__': None}\n",
      "{'name': 'phone', 'price': 100, 'quantity': 6}\n",
      "750.0\n",
      "525.0\n"
     ]
    }
   ],
   "source": [
    "print(item1.name)\n",
    "print(item1.price)\n",
    "print(item1.quantity)\n",
    "print(item1.tax_rate)\n",
    "print(type(item1))\n",
    "print(Item.__dict__)\n",
    "print(item1.__dict__)  # gives all attributes\n",
    "print(item1.calculate_price())\n",
    "print(item1.discounted_price())"
   ]
  },
  {
   "cell_type": "code",
   "execution_count": 9,
   "metadata": {},
   "outputs": [
    {
     "name": "stdout",
     "output_type": "stream",
     "text": [
      "[(phone 100 6)\t, (Laptop 1000 3)\t, (Cable 10 5)\t, (Mouse 50 5)\t, (Keyboara 75 5)\t]\n"
     ]
    }
   ],
   "source": [
    "print(Item.all)"
   ]
  },
  {
   "cell_type": "code",
   "execution_count": 10,
   "metadata": {},
   "outputs": [
    {
     "name": "stdout",
     "output_type": "stream",
     "text": [
      "phone\n",
      "Laptop\n",
      "Cable\n",
      "Mouse\n",
      "Keyboara\n"
     ]
    }
   ],
   "source": [
    "for instance in Item.all:\n",
    "    print(instance.name)"
   ]
  }
 ],
 "metadata": {
  "kernelspec": {
   "display_name": "cevi",
   "language": "python",
   "name": "python3"
  },
  "language_info": {
   "codemirror_mode": {
    "name": "ipython",
    "version": 3
   },
   "file_extension": ".py",
   "mimetype": "text/x-python",
   "name": "python",
   "nbconvert_exporter": "python",
   "pygments_lexer": "ipython3",
   "version": "3.11.4"
  },
  "orig_nbformat": 4
 },
 "nbformat": 4,
 "nbformat_minor": 2
}
