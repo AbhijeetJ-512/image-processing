{
 "cells": [
  {
   "cell_type": "code",
   "execution_count": 17,
   "metadata": {},
   "outputs": [],
   "source": [
    "import cv2\n",
    "import numpy as np"
   ]
  },
  {
   "cell_type": "code",
   "execution_count": 15,
   "metadata": {},
   "outputs": [],
   "source": [
    "def image_resize(frame, width=1080, height=720):\n",
    "    dim = (width, height)\n",
    "    return cv2.resize(frame, dim, interpolation=cv2.INTER_AREA)"
   ]
  },
  {
   "cell_type": "code",
   "execution_count": 33,
   "metadata": {},
   "outputs": [],
   "source": [
    "def disp(image):\n",
    "    cv2.imshow(\"image\", image)\n",
    "    cv2.waitKey(0)\n",
    "    cv2.destroyAllWindows()"
   ]
  },
  {
   "cell_type": "code",
   "execution_count": 34,
   "metadata": {},
   "outputs": [],
   "source": [
    "image1 = cv2.imread(\"images/modi.jpg\")\n",
    "image2 = image_resize(image1)\n",
    "disp(image1)\n",
    "disp(image2)"
   ]
  },
  {
   "cell_type": "code",
   "execution_count": 35,
   "metadata": {},
   "outputs": [],
   "source": [
    "blank_image = np.zeros((500, 500, 3), dtype=np.uint8)\n",
    "disp(blank_image)\n",
    "cv2.rectangle(blank_image, (0, 0), (100, 200), (0, 0, 255))\n",
    "disp(blank_image)\n",
    "cv2.circle(\n",
    "    blank_image, center=(250, 250), radius=100, color=(0, 255, 0)\n",
    ")  # (image,co-ordinates,radius,color)\n",
    "disp(blank_image)\n",
    "cv2.line(\n",
    "    blank_image,\n",
    "    pt1=(0, 0),\n",
    "    pt2=(250, 250),\n",
    "    color=(255, 0, 0),\n",
    ")\n",
    "disp(blank_image)\n",
    "cv2.putText(\n",
    "    img=blank_image,\n",
    "    text=\"Hello world\",\n",
    "    org=(450, 450),\n",
    "    fontFace=cv2.FONT_HERSHEY_COMPLEX,\n",
    "    fontScale=0.50,\n",
    "    color=(0, 0, 255),\n",
    ")\n",
    "disp(blank_image)"
   ]
  },
  {
   "cell_type": "code",
   "execution_count": 50,
   "metadata": {},
   "outputs": [],
   "source": [
    "img = cv2.imread(\"images/bull.jpg\")\n",
    "disp(img)\n",
    "gray_img = cv2.cvtColor(img, cv2.COLOR_BGR2GRAY)\n",
    "disp(gray_img)\n",
    "blur_img = cv2.GaussianBlur(\n",
    "    src=img, ksize=(7, 7), sigmaX=cv2.BORDER_DEFAULT\n",
    ")  # bigger the kernal size more the blur\n",
    "disp(blur_img)\n",
    "canny = cv2.Canny(img, 100, 100)\n",
    "disp(canny)"
   ]
  },
  {
   "cell_type": "code",
   "execution_count": 57,
   "metadata": {},
   "outputs": [],
   "source": [
    "def translate(image, x, y):  # works in .py file\n",
    "    transMat = np.float32([[1, 0, x], [1, 0, y]])  # type:ignore\n",
    "    dim = (image.shape[1], image.shape[0])\n",
    "    return cv2.warpAffine(img, transMat, dim)  # type :ignore"
   ]
  },
  {
   "cell_type": "code",
   "execution_count": 58,
   "metadata": {},
   "outputs": [],
   "source": [
    "img = cv2.imread(\"images/bull.jpg\")\n",
    "translated = translate(img, 50, 50)\n",
    "disp(translated)"
   ]
  }
 ],
 "metadata": {
  "kernelspec": {
   "display_name": "cevi",
   "language": "python",
   "name": "python3"
  },
  "language_info": {
   "codemirror_mode": {
    "name": "ipython",
    "version": 3
   },
   "file_extension": ".py",
   "mimetype": "text/x-python",
   "name": "python",
   "nbconvert_exporter": "python",
   "pygments_lexer": "ipython3",
   "version": "3.11.4"
  },
  "orig_nbformat": 4
 },
 "nbformat": 4,
 "nbformat_minor": 2
}
